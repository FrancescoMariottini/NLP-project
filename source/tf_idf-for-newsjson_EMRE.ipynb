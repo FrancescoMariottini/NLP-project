{
 "cells": [
  {
   "cell_type": "code",
   "execution_count": 11,
   "metadata": {},
   "outputs": [],
   "source": [
    "import json\n",
    "import pandas as pd\n",
    "\n",
    "# Import reduce from functools\n",
    "from functools import reduce"
   ]
  },
  {
   "cell_type": "code",
   "execution_count": 3,
   "metadata": {},
   "outputs": [],
   "source": [
    "with open('data/data/news_data.json') as f:\n",
    "      data2 = json.load(f)"
   ]
  },
  {
   "cell_type": "code",
   "execution_count": 4,
   "metadata": {},
   "outputs": [
    {
     "data": {
      "text/html": [
       "<div>\n",
       "<style scoped>\n",
       "    .dataframe tbody tr th:only-of-type {\n",
       "        vertical-align: middle;\n",
       "    }\n",
       "\n",
       "    .dataframe tbody tr th {\n",
       "        vertical-align: top;\n",
       "    }\n",
       "\n",
       "    .dataframe thead th {\n",
       "        text-align: right;\n",
       "    }\n",
       "</style>\n",
       "<table border=\"1\" class=\"dataframe\">\n",
       "  <thead>\n",
       "    <tr style=\"text-align: right;\">\n",
       "      <th></th>\n",
       "      <th>id</th>\n",
       "      <th>title</th>\n",
       "      <th>summary</th>\n",
       "      <th>authors</th>\n",
       "      <th>tags</th>\n",
       "      <th>text</th>\n",
       "      <th>url</th>\n",
       "      <th>source</th>\n",
       "      <th>created_at</th>\n",
       "      <th>updated_at</th>\n",
       "      <th>author</th>\n",
       "      <th>date</th>\n",
       "    </tr>\n",
       "  </thead>\n",
       "  <tbody>\n",
       "    <tr>\n",
       "      <th>0</th>\n",
       "      <td>10813</td>\n",
       "      <td>ZingBox aims for ‘Internet of Trusted Things’,...</td>\n",
       "      <td>Cybersecurity provider ZingBox has announced t...</td>\n",
       "      <td>None</td>\n",
       "      <td>device\\niot\\nguardian\\napproach\\ndevices\\nindu...</td>\n",
       "      <td>Cybersecurity provider ZingBox has announced t...</td>\n",
       "      <td>https://artificialintelligence-news.com/2017/0...</td>\n",
       "      <td>AInews</td>\n",
       "      <td>2020-02-05T17:08:34.343Z</td>\n",
       "      <td>2020-02-05T17:08:34.343Z</td>\n",
       "      <td>James Bourne</td>\n",
       "      <td>2017-04-25</td>\n",
       "    </tr>\n",
       "    <tr>\n",
       "      <th>1</th>\n",
       "      <td>10814</td>\n",
       "      <td>AI may help create more sustainable data centres</td>\n",
       "      <td>Enterprise data centre provider Aegis Data arg...</td>\n",
       "      <td>None</td>\n",
       "      <td>data\\ncentre\\nnatural\\nnew\\ntechnology\\nindust...</td>\n",
       "      <td>Enterprise data centre provider Aegis Data arg...</td>\n",
       "      <td>https://artificialintelligence-news.com/2017/0...</td>\n",
       "      <td>AInews</td>\n",
       "      <td>2020-02-05T17:08:34.355Z</td>\n",
       "      <td>2020-02-05T17:08:34.355Z</td>\n",
       "      <td>James Bourne</td>\n",
       "      <td>2017-04-25</td>\n",
       "    </tr>\n",
       "  </tbody>\n",
       "</table>\n",
       "</div>"
      ],
      "text/plain": [
       "      id                                              title  \\\n",
       "0  10813  ZingBox aims for ‘Internet of Trusted Things’,...   \n",
       "1  10814   AI may help create more sustainable data centres   \n",
       "\n",
       "                                             summary authors  \\\n",
       "0  Cybersecurity provider ZingBox has announced t...    None   \n",
       "1  Enterprise data centre provider Aegis Data arg...    None   \n",
       "\n",
       "                                                tags  \\\n",
       "0  device\\niot\\nguardian\\napproach\\ndevices\\nindu...   \n",
       "1  data\\ncentre\\nnatural\\nnew\\ntechnology\\nindust...   \n",
       "\n",
       "                                                text  \\\n",
       "0  Cybersecurity provider ZingBox has announced t...   \n",
       "1  Enterprise data centre provider Aegis Data arg...   \n",
       "\n",
       "                                                 url  source  \\\n",
       "0  https://artificialintelligence-news.com/2017/0...  AInews   \n",
       "1  https://artificialintelligence-news.com/2017/0...  AInews   \n",
       "\n",
       "                 created_at                updated_at        author  \\\n",
       "0  2020-02-05T17:08:34.343Z  2020-02-05T17:08:34.343Z  James Bourne   \n",
       "1  2020-02-05T17:08:34.355Z  2020-02-05T17:08:34.355Z  James Bourne   \n",
       "\n",
       "         date  \n",
       "0  2017-04-25  \n",
       "1  2017-04-25  "
      ]
     },
     "execution_count": 4,
     "metadata": {},
     "output_type": "execute_result"
    }
   ],
   "source": [
    "new_cases = pd.DataFrame(data2['data'], columns=['id', 'title', 'summary', \n",
    "                                      'authors', 'tags', \n",
    "                                      'text', 'url', 'source',\n",
    "                                      'created_at', 'updated_at',\n",
    "                                      'author', 'date'])\n",
    "new_cases.head(2)"
   ]
  },
  {
   "cell_type": "code",
   "execution_count": 5,
   "metadata": {},
   "outputs": [],
   "source": [
    "new_df = new_cases[['title', 'summary', 'tags', 'text']]"
   ]
  },
  {
   "cell_type": "code",
   "execution_count": 6,
   "metadata": {},
   "outputs": [],
   "source": [
    "industry = ['agriculture', 'automative', 'comsumer products', \n",
    "            'energy', 'finance', 'health care', 'manufacturaing', \n",
    "            'media', 'pharmaceuticals', 'public and social sector', \n",
    "            'telecom', 'transport, travel and logistics']"
   ]
  },
  {
   "cell_type": "markdown",
   "metadata": {},
   "source": [
    "## 1) Dind topic with tf-idf"
   ]
  },
  {
   "cell_type": "code",
   "execution_count": 7,
   "metadata": {},
   "outputs": [],
   "source": [
    "texts = new_df.text"
   ]
  },
  {
   "cell_type": "markdown",
   "metadata": {},
   "source": [
    "### Cleaning"
   ]
  },
  {
   "cell_type": "code",
   "execution_count": 8,
   "metadata": {},
   "outputs": [],
   "source": [
    "from wordcloud import STOPWORDS\n",
    "english_stops = set(STOPWORDS)\n",
    "\n",
    "import nltk\n",
    "from nltk.corpus import wordnet\n",
    "\n",
    "def get_wordnet_pos(word):\n",
    "    \"\"\"Map POS tag to first character lemmatize() accepts\"\"\"\n",
    "    tag = nltk.pos_tag([word])[0][1][0].upper()\n",
    "    tag_dict = {\"J\": wordnet.ADJ,\n",
    "                \"N\": wordnet.NOUN,\n",
    "                \"V\": wordnet.VERB,\n",
    "                \"R\": wordnet.ADV}\n",
    "\n",
    "    return tag_dict.get(tag, wordnet.NOUN)"
   ]
  },
  {
   "cell_type": "code",
   "execution_count": 13,
   "metadata": {},
   "outputs": [
    {
     "name": "stdout",
     "output_type": "stream",
     "text": [
      "Total number of texts: 1626\n",
      "Total number of tokens: 1434310\n",
      "Total of words after removing stop words: 694546\n"
     ]
    }
   ],
   "source": [
    "# Import WordNetLemmatizer\n",
    "from nltk.stem import WordNetLemmatizer\n",
    "\n",
    "from nltk.tokenize import word_tokenize\n",
    "\n",
    "# Tokenize the article: tokens\n",
    "tokens =[word_tokenize(article) for article in texts]\n",
    "print(\"Total number of texts: {}\".format(len(tokens)))\n",
    "\n",
    "len_array = [len(token_array) for token_array in tokens]\n",
    "# Use reduce() to apply a lambda function over stark: result\n",
    "total_tokens = reduce(lambda item1, item2: item1+item2, len_array)\n",
    "print(\"Total number of tokens: {}\".format(total_tokens))\n",
    "\n",
    "# Convert the tokens into lowercase: lower_tokens\n",
    "lower_tokens = [[t.lower() for t in token] for token in tokens]\n",
    "\n",
    "# Retain alphabetic words: alpha_only\n",
    "alpha_only_list = [[t for t in lower_token if t.isalpha()] for lower_token in lower_tokens]\n",
    "\n",
    "# Remove all stop words: no_stops\n",
    "no_stops = [[t for t in alpha_only if t not in english_stops] for alpha_only in alpha_only_list]\n",
    "\n",
    "len_array = [len(token_array) for token_array in no_stops]\n",
    "# Use reduce() to apply a lambda function over stark: result\n",
    "total_tokens = reduce(lambda item1, item2: item1+item2, len_array)\n",
    "print(\"Total of words after removing stop words: {}\".format(total_tokens))\n",
    "\n",
    "# Instantiate the WordNetLemmatizer\n",
    "wordnet_lemmatizer = WordNetLemmatizer()\n",
    "\n",
    "# Lemmatize all tokens into a new list: lemmatized\n",
    "articles_lemmatized = [[wordnet_lemmatizer.lemmatize(t, get_wordnet_pos(t)) for t in no_stop] for no_stop in no_stops] "
   ]
  },
  {
   "cell_type": "markdown",
   "metadata": {},
   "source": [
    "### Create dictionary including all words in dataset (694546 words)."
   ]
  },
  {
   "cell_type": "code",
   "execution_count": 14,
   "metadata": {},
   "outputs": [],
   "source": [
    "# Import Dictionary\n",
    "from gensim.corpora.dictionary import Dictionary\n",
    "\n",
    "# Create a Dictionary from the articles: dictionary\n",
    "dictionary = Dictionary(articles_lemmatized)"
   ]
  },
  {
   "cell_type": "code",
   "execution_count": 16,
   "metadata": {},
   "outputs": [
    {
     "name": "stdout",
     "output_type": "stream",
     "text": [
      "1626\n"
     ]
    }
   ],
   "source": [
    "# Create a MmCorpus: corpus\n",
    "corpus = [dictionary.doc2bow(article) for article in articles_lemmatized]\n",
    "\n",
    "# How much text in corpus_sorted\n",
    "print(len(corpus))"
   ]
  },
  {
   "cell_type": "markdown",
   "metadata": {},
   "source": [
    "### Word Frequency and Weights"
   ]
  },
  {
   "cell_type": "code",
   "execution_count": 17,
   "metadata": {},
   "outputs": [
    {
     "name": "stdout",
     "output_type": "stream",
     "text": [
      "device 9\n",
      "iot 6\n",
      "solution 5\n",
      "expo 4\n",
      "medical 4\n",
      "zingbox 4\n",
      "approach 3\n",
      "data 3\n",
      "guardian 3\n",
      "new 3\n",
      "*********\n",
      "zingbox 0.5306773897793426\n",
      "device 0.2869818491447389\n",
      "guardian 0.2797327586089335\n",
      "personality 0.20979313333215804\n",
      "solution 0.16377898490507994\n",
      "behaviour 0.15129020469990984\n",
      "defend 0.15129020469990984\n",
      "medical 0.14656096355385323\n",
      "conceptualise 0.13266934744483566\n",
      "enforces 0.13266934744483566\n"
     ]
    }
   ],
   "source": [
    "from gensim.models.tfidfmodel import TfidfModel\n",
    "\n",
    "# Create a new TfidfModel using the corpus: tfidf\n",
    "tfidf = TfidfModel(corpus)\n",
    "\n",
    "# Save the fench revolution document: doc\n",
    "doc = corpus[0]\n",
    "# Calculate the tfidf weights of doc: tfidf_weights\n",
    "tfidf_weights = tfidf[doc]\n",
    "\n",
    "# Sort the doc for word frequency: bow_doc\n",
    "bow_doc = sorted(doc, key=lambda w: w[1], reverse=True)\n",
    "\n",
    "# Print the top 10 words of the document alongside the count\n",
    "for word_id, word_count in bow_doc[:10]:\n",
    "    print(dictionary.get(word_id), word_count)\n",
    "\n",
    "print('*********')\n",
    "\n",
    "# Sort the weights from highest to lowest: sorted_tfidf_weights\n",
    "sorted_tfidf_weights = sorted(tfidf_weights, key=lambda w: w[1], reverse=True)\n",
    "\n",
    "# Print the top 10 weighted words\n",
    "for term_id, weight in sorted_tfidf_weights[:10]:\n",
    "    print(dictionary.get(term_id), weight)"
   ]
  },
  {
   "cell_type": "markdown",
   "metadata": {},
   "source": [
    "### Weights for all texts"
   ]
  },
  {
   "cell_type": "code",
   "execution_count": 20,
   "metadata": {},
   "outputs": [],
   "source": [
    "tfidf_weights = [sorted(tfidf[doc], key=lambda w: w[1], reverse=True) for doc in corpus]"
   ]
  },
  {
   "cell_type": "markdown",
   "metadata": {},
   "source": [
    "## 2) Name Entity Recognition"
   ]
  },
  {
   "cell_type": "code",
   "execution_count": 18,
   "metadata": {},
   "outputs": [
    {
     "name": "stderr",
     "output_type": "stream",
     "text": [
      "[nltk_data] Downloading package averaged_perceptron_tagger to\n",
      "[nltk_data]     /home/becode/nltk_data...\n",
      "[nltk_data]   Package averaged_perceptron_tagger is already up-to-\n",
      "[nltk_data]       date!\n",
      "[nltk_data] Downloading package maxent_ne_chunker to\n",
      "[nltk_data]     /home/becode/nltk_data...\n",
      "[nltk_data]   Package maxent_ne_chunker is already up-to-date!\n",
      "[nltk_data] Downloading package words to /home/becode/nltk_data...\n",
      "[nltk_data]   Package words is already up-to-date!\n"
     ]
    },
    {
     "data": {
      "text/plain": [
       "True"
      ]
     },
     "execution_count": 18,
     "metadata": {},
     "output_type": "execute_result"
    }
   ],
   "source": [
    "import nltk\n",
    "nltk.download('averaged_perceptron_tagger')\n",
    "nltk.download('maxent_ne_chunker')\n",
    "nltk.download('words')"
   ]
  },
  {
   "cell_type": "code",
   "execution_count": 19,
   "metadata": {},
   "outputs": [
    {
     "name": "stdout",
     "output_type": "stream",
     "text": [
      "ORG ZingBox\n",
      "PERSON IoT Guardian\n",
      "ORDINAL first\n",
      "PERCENT 99.9%\n",
      "ORG Guardian\n",
      "PRODUCT IoT Guardian\n",
      "ORG Stanford University\n",
      "ORG ZingBox\n",
      "DATE zero-day\n",
      "PERSON Jerry Marshall\n",
      "ORG United Regional Health Care System\n",
      "ORG ZingBox\n",
      "PERCENT over 95%\n",
      "PERCENT about 5%\n",
      "ORG ZingBox\n",
      "LOC Silicon Valley\n",
      "GPE London\n",
      "GPE Amsterdam\n",
      "LAW the IoT Tech Expo\n",
      "LAW Blockchain Expo and Cyber Security & Cloud Expo\n",
      "CARDINAL one\n"
     ]
    }
   ],
   "source": [
    "article2 = new_cases.text[0]\n",
    "\n",
    "# Import spacy\n",
    "import spacy\n",
    "\n",
    "# Instantiate the English model: nlp\n",
    "nlp = spacy.load('en_core_web_md')\n",
    "\n",
    "# Create a new document: doc\n",
    "doc = nlp(article2)\n",
    "\n",
    "# Print all of the found entities and their labels\n",
    "for ent in doc.ents:\n",
    "    print(ent.label_, ent.text)"
   ]
  },
  {
   "cell_type": "markdown",
   "metadata": {},
   "source": [
    "### Use NER for extracting industry from text"
   ]
  },
  {
   "cell_type": "code",
   "execution_count": 21,
   "metadata": {},
   "outputs": [],
   "source": [
    "import spacy\n",
    "# Import the PhraseMatcher and initialize it\n",
    "from spacy.matcher import Matcher\n",
    "\n",
    "# Load the en_core_web_md model\n",
    "nlp = spacy.load('en_core_web_md')"
   ]
  },
  {
   "cell_type": "code",
   "execution_count": 22,
   "metadata": {},
   "outputs": [],
   "source": [
    "article3 = new_cases.text[4]"
   ]
  },
  {
   "cell_type": "code",
   "execution_count": 25,
   "metadata": {},
   "outputs": [
    {
     "ename": "AttributeError",
     "evalue": "'spacy.tokens.token.Token' object has no attribute 'items'",
     "output_type": "error",
     "traceback": [
      "\u001b[0;31m---------------------------------------------------------------------------\u001b[0m",
      "\u001b[0;31mAttributeError\u001b[0m                            Traceback (most recent call last)",
      "\u001b[0;32m<ipython-input-25-2e94cd79b089>\u001b[0m in \u001b[0;36m<module>\u001b[0;34m\u001b[0m\n\u001b[1;32m      6\u001b[0m \u001b[0;31m# This is the faster version of: [nlp(country) for country in COUNTRIES]\u001b[0m\u001b[0;34m\u001b[0m\u001b[0;34m\u001b[0m\u001b[0;34m\u001b[0m\u001b[0m\n\u001b[1;32m      7\u001b[0m \u001b[0mpatterns\u001b[0m \u001b[0;34m=\u001b[0m \u001b[0mlist\u001b[0m\u001b[0;34m(\u001b[0m\u001b[0mnlp\u001b[0m\u001b[0;34m.\u001b[0m\u001b[0mpipe\u001b[0m\u001b[0;34m(\u001b[0m\u001b[0mindustry\u001b[0m\u001b[0;34m)\u001b[0m\u001b[0;34m)\u001b[0m\u001b[0;34m\u001b[0m\u001b[0;34m\u001b[0m\u001b[0m\n\u001b[0;32m----> 8\u001b[0;31m \u001b[0mmatcher\u001b[0m\u001b[0;34m.\u001b[0m\u001b[0madd\u001b[0m\u001b[0;34m(\u001b[0m\u001b[0;34m'INDUSTRY'\u001b[0m\u001b[0;34m,\u001b[0m \u001b[0;32mNone\u001b[0m\u001b[0;34m,\u001b[0m \u001b[0;34m*\u001b[0m\u001b[0mpatterns\u001b[0m\u001b[0;34m)\u001b[0m\u001b[0;34m\u001b[0m\u001b[0;34m\u001b[0m\u001b[0m\n\u001b[0m\u001b[1;32m      9\u001b[0m \u001b[0;34m\u001b[0m\u001b[0m\n\u001b[1;32m     10\u001b[0m \u001b[0;31m# Call the matcher on the test document and print the result\u001b[0m\u001b[0;34m\u001b[0m\u001b[0;34m\u001b[0m\u001b[0;34m\u001b[0m\u001b[0m\n",
      "\u001b[0;32mmatcher.pyx\u001b[0m in \u001b[0;36mspacy.matcher.matcher.Matcher.add\u001b[0;34m()\u001b[0m\n",
      "\u001b[0;32mmatcher.pyx\u001b[0m in \u001b[0;36mspacy.matcher.matcher._preprocess_pattern\u001b[0;34m()\u001b[0m\n",
      "\u001b[0;32mmatcher.pyx\u001b[0m in \u001b[0;36mspacy.matcher.matcher._get_operators\u001b[0;34m()\u001b[0m\n",
      "\u001b[0;31mAttributeError\u001b[0m: 'spacy.tokens.token.Token' object has no attribute 'items'"
     ]
    }
   ],
   "source": [
    "doc = nlp(article3)\n",
    "\n",
    "matcher = Matcher(nlp.vocab)\n",
    "\n",
    "# Create pattern Doc objects and add them to the matcher\n",
    "# This is the faster version of: [nlp(country) for country in COUNTRIES]\n",
    "patterns = list(nlp.pipe(industry))\n",
    "matcher.add('INDUSTRY', None, *patterns)\n",
    "\n",
    "# Call the matcher on the test document and print the result\n",
    "matches = matcher(doc)\n",
    "print([doc[start:end] for match_id, start, end in matches])"
   ]
  },
  {
   "cell_type": "code",
   "execution_count": null,
   "metadata": {},
   "outputs": [],
   "source": []
  }
 ],
 "metadata": {
  "kernelspec": {
   "display_name": "Python 3",
   "language": "python",
   "name": "python3"
  },
  "language_info": {
   "codemirror_mode": {
    "name": "ipython",
    "version": 3
   },
   "file_extension": ".py",
   "mimetype": "text/x-python",
   "name": "python",
   "nbconvert_exporter": "python",
   "pygments_lexer": "ipython3",
   "version": "3.7.5"
  }
 },
 "nbformat": 4,
 "nbformat_minor": 4
}
