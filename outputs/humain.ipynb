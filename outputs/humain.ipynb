{
 "metadata": {
  "language_info": {
   "codemirror_mode": {
    "name": "ipython",
    "version": 3
   },
   "file_extension": ".py",
   "mimetype": "text/x-python",
   "name": "python",
   "nbconvert_exporter": "python",
   "pygments_lexer": "ipython3",
   "version": "3.6.9-final"
  },
  "orig_nbformat": 2,
  "kernelspec": {
   "name": "python3",
   "display_name": "Python 3",
   "language": "python"
  }
 },
 "nbformat": 4,
 "nbformat_minor": 2,
 "cells": [
  {
   "cell_type": "code",
   "execution_count": 1,
   "metadata": {},
   "outputs": [],
   "source": [
    "import pandas as pd"
   ]
  },
  {
   "cell_type": "code",
   "execution_count": 2,
   "metadata": {},
   "outputs": [],
   "source": [
    "news_json = pd.read_json(r'/home/becode/NLP-project/assets/news_data.json')\n",
    "news_df = pd.json_normalize(news_json['data'])"
   ]
  },
  {
   "cell_type": "code",
   "execution_count": 3,
   "metadata": {},
   "outputs": [
    {
     "output_type": "execute_result",
     "data": {
      "text/plain": [
       "      id                                              title  \\\n",
       "0  10813  ZingBox aims for ‘Internet of Trusted Things’,...   \n",
       "1  10814   AI may help create more sustainable data centres   \n",
       "2  10815  Why a potential trillion dollar B2B bots indus...   \n",
       "3  10816  Why companies investing in AI today should exp...   \n",
       "4  10817  Tencent gears up for greater GPU acceleration ...   \n",
       "\n",
       "                                             summary authors  \\\n",
       "0  Cybersecurity provider ZingBox has announced t...    None   \n",
       "1  Enterprise data centre provider Aegis Data arg...    None   \n",
       "2  From Domino’s Pizza, to Uber, to Bank of Ameri...    None   \n",
       "3  Organisations investing in artificial intellig...    None   \n",
       "4  Tencent’s cloud computing services will be bee...    None   \n",
       "\n",
       "                                                tags  \\\n",
       "0  device\\niot\\nguardian\\napproach\\ndevices\\nindu...   \n",
       "1  data\\ncentre\\nnatural\\nnew\\ntechnology\\nindust...   \n",
       "2  next\\nbig\\ngupshup\\none\\nbusiness\\ntech\\nimpac...   \n",
       "3  ai\\norganisations\\nindustry\\nemployees\\nexpo\\n...   \n",
       "4  gpu\\naccelerators\\ngpus\\ncloud\\nservices\\ntesl...   \n",
       "\n",
       "                                                text  \\\n",
       "0  Cybersecurity provider ZingBox has announced t...   \n",
       "1  Enterprise data centre provider Aegis Data arg...   \n",
       "2  From Domino’s Pizza, to Uber, to Bank of Ameri...   \n",
       "3  Organisations investing in artificial intellig...   \n",
       "4  Tencent’s cloud computing services will be bee...   \n",
       "\n",
       "                                                 url  source  \\\n",
       "0  https://artificialintelligence-news.com/2017/0...  AInews   \n",
       "1  https://artificialintelligence-news.com/2017/0...  AInews   \n",
       "2  https://artificialintelligence-news.com/2017/0...  AInews   \n",
       "3  https://artificialintelligence-news.com/2017/0...  AInews   \n",
       "4  https://artificialintelligence-news.com/2017/0...  AInews   \n",
       "\n",
       "                 created_at                updated_at        author  \\\n",
       "0  2020-02-05T17:08:34.343Z  2020-02-05T17:08:34.343Z  James Bourne   \n",
       "1  2020-02-05T17:08:34.355Z  2020-02-05T17:08:34.355Z  James Bourne   \n",
       "2  2020-02-05T17:08:34.365Z  2020-02-05T17:08:34.365Z  James Bourne   \n",
       "3  2020-02-05T17:08:34.375Z  2020-02-05T17:08:34.375Z  James Bourne   \n",
       "4  2020-02-05T17:08:34.385Z  2020-02-05T17:08:34.385Z  James Bourne   \n",
       "\n",
       "         date  \n",
       "0  2017-04-25  \n",
       "1  2017-04-25  \n",
       "2  2017-04-25  \n",
       "3  2017-04-25  \n",
       "4  2017-04-26  "
      ],
      "text/html": "<div>\n<style scoped>\n    .dataframe tbody tr th:only-of-type {\n        vertical-align: middle;\n    }\n\n    .dataframe tbody tr th {\n        vertical-align: top;\n    }\n\n    .dataframe thead th {\n        text-align: right;\n    }\n</style>\n<table border=\"1\" class=\"dataframe\">\n  <thead>\n    <tr style=\"text-align: right;\">\n      <th></th>\n      <th>id</th>\n      <th>title</th>\n      <th>summary</th>\n      <th>authors</th>\n      <th>tags</th>\n      <th>text</th>\n      <th>url</th>\n      <th>source</th>\n      <th>created_at</th>\n      <th>updated_at</th>\n      <th>author</th>\n      <th>date</th>\n    </tr>\n  </thead>\n  <tbody>\n    <tr>\n      <th>0</th>\n      <td>10813</td>\n      <td>ZingBox aims for ‘Internet of Trusted Things’,...</td>\n      <td>Cybersecurity provider ZingBox has announced t...</td>\n      <td>None</td>\n      <td>device\\niot\\nguardian\\napproach\\ndevices\\nindu...</td>\n      <td>Cybersecurity provider ZingBox has announced t...</td>\n      <td>https://artificialintelligence-news.com/2017/0...</td>\n      <td>AInews</td>\n      <td>2020-02-05T17:08:34.343Z</td>\n      <td>2020-02-05T17:08:34.343Z</td>\n      <td>James Bourne</td>\n      <td>2017-04-25</td>\n    </tr>\n    <tr>\n      <th>1</th>\n      <td>10814</td>\n      <td>AI may help create more sustainable data centres</td>\n      <td>Enterprise data centre provider Aegis Data arg...</td>\n      <td>None</td>\n      <td>data\\ncentre\\nnatural\\nnew\\ntechnology\\nindust...</td>\n      <td>Enterprise data centre provider Aegis Data arg...</td>\n      <td>https://artificialintelligence-news.com/2017/0...</td>\n      <td>AInews</td>\n      <td>2020-02-05T17:08:34.355Z</td>\n      <td>2020-02-05T17:08:34.355Z</td>\n      <td>James Bourne</td>\n      <td>2017-04-25</td>\n    </tr>\n    <tr>\n      <th>2</th>\n      <td>10815</td>\n      <td>Why a potential trillion dollar B2B bots indus...</td>\n      <td>From Domino’s Pizza, to Uber, to Bank of Ameri...</td>\n      <td>None</td>\n      <td>next\\nbig\\ngupshup\\none\\nbusiness\\ntech\\nimpac...</td>\n      <td>From Domino’s Pizza, to Uber, to Bank of Ameri...</td>\n      <td>https://artificialintelligence-news.com/2017/0...</td>\n      <td>AInews</td>\n      <td>2020-02-05T17:08:34.365Z</td>\n      <td>2020-02-05T17:08:34.365Z</td>\n      <td>James Bourne</td>\n      <td>2017-04-25</td>\n    </tr>\n    <tr>\n      <th>3</th>\n      <td>10816</td>\n      <td>Why companies investing in AI today should exp...</td>\n      <td>Organisations investing in artificial intellig...</td>\n      <td>None</td>\n      <td>ai\\norganisations\\nindustry\\nemployees\\nexpo\\n...</td>\n      <td>Organisations investing in artificial intellig...</td>\n      <td>https://artificialintelligence-news.com/2017/0...</td>\n      <td>AInews</td>\n      <td>2020-02-05T17:08:34.375Z</td>\n      <td>2020-02-05T17:08:34.375Z</td>\n      <td>James Bourne</td>\n      <td>2017-04-25</td>\n    </tr>\n    <tr>\n      <th>4</th>\n      <td>10817</td>\n      <td>Tencent gears up for greater GPU acceleration ...</td>\n      <td>Tencent’s cloud computing services will be bee...</td>\n      <td>None</td>\n      <td>gpu\\naccelerators\\ngpus\\ncloud\\nservices\\ntesl...</td>\n      <td>Tencent’s cloud computing services will be bee...</td>\n      <td>https://artificialintelligence-news.com/2017/0...</td>\n      <td>AInews</td>\n      <td>2020-02-05T17:08:34.385Z</td>\n      <td>2020-02-05T17:08:34.385Z</td>\n      <td>James Bourne</td>\n      <td>2017-04-26</td>\n    </tr>\n  </tbody>\n</table>\n</div>"
     },
     "metadata": {},
     "execution_count": 3
    }
   ],
   "source": [
    "news_df.head()"
   ]
  },
  {
   "cell_type": "code",
   "execution_count": 4,
   "metadata": {},
   "outputs": [
    {
     "output_type": "execute_result",
     "data": {
      "text/plain": [
       "'Cybersecurity provider ZingBox has announced the launch of a new generation of cybersecurity solutions, called IoT Guardian, which focuses on service protection.\\n\\nThe solution is being claimed as the industry’s first to offer a combination of deep learning algorithms to discern each device’s unique personality and enforce acceptable behaviour. Its self-learning approach continually builds on previous knowledge to discover, detect and defend critical Internet of Things (IoT) services and data while avoiding false positives with 99.9% accuracy.\\n\\nThe IoT Guardian works differently from traditional IT security solutions. The outmoded IT security focuses only on data protection, and is unable to defend the diverse set of IoT devices that feature a variety of non-standard and customised operating systems. The new IoT Guardian on the other hand is developed on a fully non-disruptive approach that discerns each device’s personality, monitors all activities and enforces trusted behaviour.\\n\\nThe new device-personality approach was first conceptualised at Stanford University by ZingBox founders to address zero-day cyber and insider threats and eliminate the need for installing software agents on each device.\\n\\nJerry Marshall, director of information services and telecommunications at United Regional Health Care System, said: “Medical device networks in a hospital are not rigorously monitored. We needed a solution that would generate a real-time inventory of medical devices across the hospital network and evaluate the risk exposure. The ZingBox solution discovered over 95% of medical devices compared to current tools that could only detect about 5%. The intelligence and accuracy of elaborate device personalities allowed us to turn ZingBox into a tool that regulates medical device behaviours.”\\n\\nInterested in hearing industry leaders discuss subjects like this and sharing their use-cases? Attend the co-located AI & Big Data Expo events with upcoming shows in Silicon Valley, London and Amsterdam to learn more. Co-located with the IoT Tech Expo, Blockchain Expo and Cyber Security & Cloud Expo so you can explore the future of enterprise technology in one place.'"
      ]
     },
     "metadata": {},
     "execution_count": 4
    }
   ],
   "source": [
    "news_df['text'][0]"
   ]
  },
  {
   "cell_type": "code",
   "execution_count": 5,
   "metadata": {},
   "outputs": [],
   "source": [
    "from sklearn.feature_extraction.text import CountVectorizer"
   ]
  },
  {
   "cell_type": "code",
   "execution_count": 6,
   "metadata": {},
   "outputs": [],
   "source": [
    "cv = CountVectorizer(max_df=0.95, min_df=2, stop_words='english')"
   ]
  },
  {
   "cell_type": "code",
   "execution_count": 7,
   "metadata": {},
   "outputs": [],
   "source": [
    "dtm = cv.fit_transform(news_df['text'])"
   ]
  },
  {
   "cell_type": "code",
   "execution_count": 8,
   "metadata": {},
   "outputs": [
    {
     "output_type": "execute_result",
     "data": {
      "text/plain": [
       "<1626x18693 sparse matrix of type '<class 'numpy.int64'>'\n",
       "\twith 430418 stored elements in Compressed Sparse Row format>"
      ]
     },
     "metadata": {},
     "execution_count": 8
    }
   ],
   "source": [
    "dtm"
   ]
  },
  {
   "cell_type": "code",
   "execution_count": 9,
   "metadata": {},
   "outputs": [],
   "source": [
    "from sklearn.decomposition import LatentDirichletAllocation"
   ]
  },
  {
   "cell_type": "code",
   "execution_count": 10,
   "metadata": {},
   "outputs": [],
   "source": [
    "LDA = LatentDirichletAllocation(n_components=12,random_state=42)"
   ]
  },
  {
   "cell_type": "code",
   "execution_count": 11,
   "metadata": {},
   "outputs": [
    {
     "output_type": "execute_result",
     "data": {
      "text/plain": [
       "LatentDirichletAllocation(n_components=12, random_state=42)"
      ]
     },
     "metadata": {},
     "execution_count": 11
    }
   ],
   "source": [
    "LDA.fit(dtm)"
   ]
  },
  {
   "source": [
    "# Showing Stored Words"
   ],
   "cell_type": "markdown",
   "metadata": {}
  },
  {
   "cell_type": "code",
   "execution_count": 12,
   "metadata": {},
   "outputs": [
    {
     "output_type": "execute_result",
     "data": {
      "text/plain": [
       "18693"
      ]
     },
     "metadata": {},
     "execution_count": 12
    }
   ],
   "source": [
    "len(cv.get_feature_names())"
   ]
  },
  {
   "cell_type": "code",
   "execution_count": 14,
   "metadata": {},
   "outputs": [
    {
     "output_type": "stream",
     "name": "stdout",
     "text": [
      "obtains\n",
      "knob\n",
      "acquire\n",
      "flu\n",
      "brits\n",
      "subtleties\n",
      "investigation\n",
      "heal\n",
      "brink\n",
      "sought\n"
     ]
    }
   ],
   "source": [
    "import random\n",
    "for i in range(10):\n",
    "    random_word_id = random.randint(0,18693)\n",
    "    print(cv.get_feature_names()[random_word_id])"
   ]
  },
  {
   "source": [
    "## Showing Top Words Per Topic"
   ],
   "cell_type": "markdown",
   "metadata": {}
  },
  {
   "cell_type": "code",
   "execution_count": 15,
   "metadata": {},
   "outputs": [
    {
     "output_type": "execute_result",
     "data": {
      "text/plain": [
       "12"
      ]
     },
     "metadata": {},
     "execution_count": 15
    }
   ],
   "source": [
    "len(LDA.components_)"
   ]
  },
  {
   "cell_type": "code",
   "execution_count": 16,
   "metadata": {},
   "outputs": [
    {
     "output_type": "execute_result",
     "data": {
      "text/plain": [
       "array([[ 0.08334172, 23.69277846,  0.08333873, ...,  5.14280669,\n",
       "         0.08333746,  0.08333463],\n",
       "       [ 1.22978347, 55.21745536,  0.08333333, ...,  0.0833335 ,\n",
       "         0.08333341,  2.24895928],\n",
       "       [ 0.08333693, 39.42812026,  0.08333333, ..., 27.77960887,\n",
       "         0.08333339,  0.08333334],\n",
       "       ...,\n",
       "       [ 0.08334353,  6.6501812 ,  0.08333333, ...,  0.08333354,\n",
       "         0.08333333,  3.43769152],\n",
       "       [ 1.66551819, 56.03278536,  0.08333333, ...,  0.08333469,\n",
       "         0.08333345,  0.0833375 ],\n",
       "       [ 1.47128493, 20.23780843,  0.08333333, ...,  0.08333496,\n",
       "         0.08333411,  1.23619556]])"
      ]
     },
     "metadata": {},
     "execution_count": 16
    }
   ],
   "source": [
    "LDA.components_"
   ]
  },
  {
   "cell_type": "code",
   "execution_count": 17,
   "metadata": {},
   "outputs": [
    {
     "output_type": "execute_result",
     "data": {
      "text/plain": [
       "18693"
      ]
     },
     "metadata": {},
     "execution_count": 17
    }
   ],
   "source": [
    "len(LDA.components_[0])"
   ]
  },
  {
   "cell_type": "code",
   "execution_count": 18,
   "metadata": {},
   "outputs": [],
   "source": [
    "single_topic = LDA.components_[0]"
   ]
  },
  {
   "cell_type": "code",
   "execution_count": 19,
   "metadata": {},
   "outputs": [
    {
     "output_type": "execute_result",
     "data": {
      "text/plain": [
       "array([17405,  5407,  4089, ...,   927,   792,  7130])"
      ]
     },
     "metadata": {},
     "execution_count": 19
    }
   ],
   "source": [
    "# Returns the indices that would sort this array.\n",
    "single_topic.argsort()"
   ]
  },
  {
   "cell_type": "code",
   "execution_count": 23,
   "metadata": {},
   "outputs": [
    {
     "output_type": "execute_result",
     "data": {
      "text/plain": [
       "0.08333333333334264"
      ]
     },
     "metadata": {},
     "execution_count": 23
    }
   ],
   "source": [
    "# Word least representative of this topic\n",
    "single_topic[17405]"
   ]
  },
  {
   "cell_type": "code",
   "execution_count": 22,
   "metadata": {},
   "outputs": [
    {
     "output_type": "execute_result",
     "data": {
      "text/plain": [
       "723.7467844677382"
      ]
     },
     "metadata": {},
     "execution_count": 22
    }
   ],
   "source": [
    "# Word most representative of this topic\n",
    "single_topic[7130]"
   ]
  },
  {
   "cell_type": "code",
   "execution_count": 24,
   "metadata": {},
   "outputs": [
    {
     "output_type": "execute_result",
     "data": {
      "text/plain": [
       "array([ 7430,  4542, 14569, 10321,  8186, 12558, 10076,   927,   792,\n",
       "        7130])"
      ]
     },
     "metadata": {},
     "execution_count": 24
    }
   ],
   "source": [
    "# Top 10 words for this topic:\n",
    "single_topic.argsort()[-10:]"
   ]
  },
  {
   "cell_type": "code",
   "execution_count": 25,
   "metadata": {},
   "outputs": [],
   "source": [
    "top_word_indices = single_topic.argsort()[-10:]"
   ]
  },
  {
   "cell_type": "code",
   "execution_count": 26,
   "metadata": {},
   "outputs": [
    {
     "output_type": "stream",
     "name": "stdout",
     "text": [
      "google\n",
      "deepmind\n",
      "said\n",
      "match\n",
      "human\n",
      "play\n",
      "machine\n",
      "alphago\n",
      "ai\n",
      "game\n"
     ]
    }
   ],
   "source": [
    "for index in top_word_indices:\n",
    "    print(cv.get_feature_names()[index])"
   ]
  },
  {
   "source": [
    "let's view all the 12 topics found."
   ],
   "cell_type": "markdown",
   "metadata": {}
  },
  {
   "cell_type": "code",
   "execution_count": 28,
   "metadata": {},
   "outputs": [
    {
     "output_type": "stream",
     "name": "stdout",
     "text": [
      "THE TOP 20 WORDS FOR TOPIC #0\n",
      "['researchers', 'says', 'sedol', 'world', 'just', 'china', 'lee', 'learning', 'players', 'games', 'google', 'deepmind', 'said', 'match', 'human', 'play', 'machine', 'alphago', 'ai', 'game']\n",
      "\n",
      "\n",
      "THE TOP 20 WORDS FOR TOPIC #1\n",
      "['different', 'people', 'algorithm', 'using', 'make', 'systems', 'professor', 'like', 'work', 'time', 'research', 'computer', 'new', 'researchers', 'team', 'human', 'mit', 'robots', 'robot', 'says']\n",
      "\n",
      "\n",
      "THE TOP 20 WORDS FOR TOPIC #2\n",
      "['work', 'text', 'computer', 'team', 'real', 'used', 'neural', 'art', 'time', 'just', 'learning', 'machine', 'data', 'ai', 'new', 'facebook', 'news', 'fake', 'says', 'like']\n",
      "\n",
      "\n",
      "THE TOP 20 WORDS FOR TOPIC #3\n",
      "['job', 'machines', 'make', 'workers', 'time', 'work', 'just', 'future', 'think', 'humans', 'people', 'technology', 'like', 'new', 'jobs', 'artificial', 'world', 'human', 'intelligence', 'ai']\n",
      "\n",
      "\n",
      "THE TOP 20 WORDS FOR TOPIC #4\n",
      "['faculty', 'technology', 'learning', 'work', 'institute', 'group', 'artificial', 'said', 'college', 'computing', 'professor', 'engineering', 'ai', 'students', 'new', 'computer', 'intelligence', 'research', 'science', 'mit']\n",
      "\n",
      "\n",
      "THE TOP 20 WORDS FOR TOPIC #5\n",
      "['world', 'time', 'software', 'human', 'new', 'work', 'way', 'just', 'data', 'neural', 'company', 'people', 'ai', 'machine', 'facebook', 'deep', 'like', 'says', 'google', 'learning']\n",
      "\n",
      "\n",
      "THE TOP 20 WORDS FOR TOPIC #6\n",
      "['use', 'amazon', 'tech', 'chip', 'apple', 'software', 'people', 'artificial', 'like', 'learning', 'machine', 'intelligence', 'companies', 'technology', 'data', 'new', 'says', 'company', 'google', 'ai']\n",
      "\n",
      "\n",
      "THE TOP 20 WORDS FOR TOPIC #7\n",
      "['deep', 'new', 'science', 'paper', 'like', 'training', 'models', 'video', 'machine', 'networks', 'network', 'computer', 'image', 'model', 'says', 'images', 'data', 'neural', 'learning', 'researchers']\n",
      "\n",
      "\n",
      "THE TOP 20 WORDS FOR TOPIC #8\n",
      "['blockchain', 'silicon', 'hearing', 'valley', 'events', 'big', 'tech', 'leaders', 'iot', 'london', 'cloud', 'like', 'security', 'industry', 'technology', 'use', 'located', 'data', 'expo', 'ai']\n",
      "\n",
      "\n",
      "THE TOP 20 WORDS FOR TOPIC #9\n",
      "['possible', 'make', 'point', 'problem', 'systems', 'molecules', 'set', 'computer', 'work', 'graph', 'different', 'time', 'way', 'mit', 'science', 'algorithm', 'new', 'researchers', 'says', 'data']\n",
      "\n",
      "\n",
      "THE TOP 20 WORDS FOR TOPIC #10\n",
      "['hospital', 'time', 'models', 'healthcare', 'clinical', 'disease', 'risk', 'researchers', 'cancer', 'doctors', 'says', 'care', 'machine', 'learning', 'model', 'patient', 'health', 'medical', 'patients', 'data']\n",
      "\n",
      "\n",
      "THE TOP 20 WORDS FOR TOPIC #11\n",
      "['conversation', 'chat', 'users', 'make', 'say', 'kik', 'chatbot', 'app', 'human', 'new', 'way', 'company', 'watson', 'data', 'just', 'people', 'says', 'bots', 'like', 'bot']\n",
      "\n",
      "\n"
     ]
    }
   ],
   "source": [
    "for index,topic in enumerate(LDA.components_):\n",
    "    print(f'THE TOP 20 WORDS FOR TOPIC #{index}')\n",
    "    print([cv.get_feature_names()[i] for i in topic.argsort()[-20:]])\n",
    "    print('\\n')"
   ]
  },
  {
   "source": [
    "### Attaching Discovered Topic Labels to Original Articles"
   ],
   "cell_type": "markdown",
   "metadata": {}
  },
  {
   "cell_type": "code",
   "execution_count": 29,
   "metadata": {},
   "outputs": [
    {
     "output_type": "execute_result",
     "data": {
      "text/plain": [
       "<1626x18693 sparse matrix of type '<class 'numpy.int64'>'\n",
       "\twith 430418 stored elements in Compressed Sparse Row format>"
      ]
     },
     "metadata": {},
     "execution_count": 29
    }
   ],
   "source": [
    "dtm"
   ]
  },
  {
   "cell_type": "code",
   "execution_count": 30,
   "metadata": {},
   "outputs": [
    {
     "output_type": "execute_result",
     "data": {
      "text/plain": [
       "(1626, 18693)"
      ]
     },
     "metadata": {},
     "execution_count": 30
    }
   ],
   "source": [
    "dtm.shape"
   ]
  },
  {
   "cell_type": "code",
   "execution_count": 31,
   "metadata": {},
   "outputs": [
    {
     "output_type": "execute_result",
     "data": {
      "text/plain": [
       "1626"
      ]
     },
     "metadata": {},
     "execution_count": 31
    }
   ],
   "source": [
    "len(news_df)"
   ]
  },
  {
   "cell_type": "code",
   "execution_count": 32,
   "metadata": {},
   "outputs": [],
   "source": [
    "topic_results = LDA.transform(dtm)"
   ]
  },
  {
   "cell_type": "code",
   "execution_count": 33,
   "metadata": {},
   "outputs": [
    {
     "output_type": "execute_result",
     "data": {
      "text/plain": [
       "(1626, 12)"
      ]
     },
     "metadata": {},
     "execution_count": 33
    }
   ],
   "source": [
    "topic_results.shape"
   ]
  },
  {
   "cell_type": "code",
   "execution_count": 34,
   "metadata": {},
   "outputs": [
    {
     "output_type": "execute_result",
     "data": {
      "text/plain": [
       "array([4.16679405e-04, 4.16685633e-04, 4.16680667e-04, 1.05574248e-01,\n",
       "       4.16680923e-04, 4.16689119e-04, 4.16684817e-04, 4.16686173e-04,\n",
       "       7.36782231e-01, 4.16679104e-04, 1.44279113e-01, 1.00309430e-02])"
      ]
     },
     "metadata": {},
     "execution_count": 34
    }
   ],
   "source": [
    "topic_results[0]"
   ]
  },
  {
   "cell_type": "code",
   "execution_count": 35,
   "metadata": {},
   "outputs": [
    {
     "output_type": "execute_result",
     "data": {
      "text/plain": [
       "array([0.  , 0.  , 0.  , 0.11, 0.  , 0.  , 0.  , 0.  , 0.74, 0.  , 0.14,\n",
       "       0.01])"
      ]
     },
     "metadata": {},
     "execution_count": 35
    }
   ],
   "source": [
    "topic_results[0].round(2)"
   ]
  },
  {
   "cell_type": "code",
   "execution_count": 36,
   "metadata": {},
   "outputs": [
    {
     "output_type": "execute_result",
     "data": {
      "text/plain": [
       "8"
      ]
     },
     "metadata": {},
     "execution_count": 36
    }
   ],
   "source": [
    "topic_results[0].argmax()"
   ]
  },
  {
   "source": [
    "This means that our model thinks that the first article belongs to topic #8.\n",
    "\n",
    "\n",
    "\n",
    "### Combining with Original Data"
   ],
   "cell_type": "markdown",
   "metadata": {}
  },
  {
   "cell_type": "code",
   "execution_count": 47,
   "metadata": {},
   "outputs": [],
   "source": [
    "topic_df = news_df.copy()\n"
   ]
  },
  {
   "cell_type": "code",
   "execution_count": 48,
   "metadata": {},
   "outputs": [],
   "source": [
    "topic_df['topic'] = topic_results.argmax(axis=1)"
   ]
  },
  {
   "cell_type": "code",
   "execution_count": 51,
   "metadata": {},
   "outputs": [
    {
     "output_type": "execute_result",
     "data": {
      "text/plain": [
       "8     435\n",
       "5     233\n",
       "6     194\n",
       "1     176\n",
       "7     137\n",
       "3     120\n",
       "4     108\n",
       "0      54\n",
       "10     51\n",
       "2      46\n",
       "9      40\n",
       "11     32\n",
       "Name: topic, dtype: int64"
      ]
     },
     "metadata": {},
     "execution_count": 51
    }
   ],
   "source": []
  },
  {
   "cell_type": "code",
   "execution_count": null,
   "metadata": {},
   "outputs": [],
   "source": []
  }
 ]
}